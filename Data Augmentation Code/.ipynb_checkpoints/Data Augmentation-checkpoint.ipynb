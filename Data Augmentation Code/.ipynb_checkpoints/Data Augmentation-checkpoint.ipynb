{
 "cells": [
  {
   "cell_type": "code",
   "execution_count": 13,
   "metadata": {},
   "outputs": [],
   "source": [
    "from PIL import Image\n",
    "from PIL import ImageOps\n",
    "import os\n",
    "import matplotlib.pyplot as plt\n",
    "from skimage.transform import resize,rescale\n",
    "from skimage import io\n",
    "from scipy.ndimage import zoom\n",
    "import cv2\n",
    "import numpy as np"
   ]
  },
  {
   "cell_type": "code",
   "execution_count": 5,
   "metadata": {},
   "outputs": [],
   "source": [
    "def add_gaussian_noise(image_in, noise_sigma):\n",
    "    temp_image = np.float64(np.copy(image_in))\n",
    "\n",
    "    h = temp_image.shape[0]\n",
    "    w = temp_image.shape[1]\n",
    "    noise = np.random.randn(h, w) * noise_sigma\n",
    "\n",
    "    noisy_image = np.zeros(temp_image.shape, np.float64)\n",
    "    if len(temp_image.shape) == 2:\n",
    "        noisy_image = temp_image + noise\n",
    "    else:\n",
    "        noisy_image[:,:,0] = temp_image[:,:,0] + noise\n",
    "        noisy_image[:,:,1] = temp_image[:,:,1] + noise\n",
    "        noisy_image[:,:,2] = temp_image[:,:,2] + noise\n",
    "    return noisy_image"
   ]
  },
  {
   "cell_type": "code",
   "execution_count": 6,
   "metadata": {},
   "outputs": [],
   "source": [
    "X_path = '/scratch/mraza/Skin/validation_data'\n",
    "X_train=[]\n",
    "Y_train=[]\n",
    "X_img =[]\n",
    "Y_msk = []\n",
    "for train in os.listdir(X_path):\n",
    "    path = X_path+'/'+train\n",
    "    for imgName in os.listdir(path):\n",
    "        imgPath=path+'/'+imgName  \n",
    "        if(imgName == 'augment_images' or imgName == 'augment_masks' ):\n",
    "            continue\n",
    "        else:\n",
    "            if(train=='images'):\n",
    "                X_train.append(imgPath)\n",
    "                X_img.append(imgName)\n",
    "            else:\n",
    "                Y_train.append(imgPath)\n",
    "                Y_msk.append(imgName)"
   ]
  },
  {
   "cell_type": "code",
   "execution_count": 7,
   "metadata": {},
   "outputs": [],
   "source": [
    "methods = 6\n",
    "n = len(X_train)/methods #dividing array into 6 parts to apply different augmentation on each\n",
    "count = len(X_train) - n*methods  #as number is not exacly divisible by technique so iterating till exaclty divisible like 1894 = 1890"
   ]
  },
  {
   "cell_type": "code",
   "execution_count": null,
   "metadata": {},
   "outputs": [],
   "source": [
    "arr = [1,2,3,4,5,6]\n",
    "arr = np.array(arr)\n",
    "arr.shuffle()\n",
    "arr.shuffle()\n",
    "arr.shuffle()\n",
    "arr.shuffle()\n",
    "for i in range (len(X_train)-count):\n",
    "    img  = Image.open(X_train[i])\n",
    "    msk  = Image.open(Y_train[i])\n",
    "    if(i < n * arr[0]):\n",
    "        rotate_img  = img.rotate(45)\n",
    "        rotate_msk  = msk.rotate(45)\n",
    "        rotate_img.save(X_path+\"/images/augment_images/augmentROT_\"+X_img[i])\n",
    "        rotate_msk.save(X_path+\"/masks/augment_masks/augmentROT_\"+Y_msk[i])\n",
    "        continue\n",
    "    elif(i < n*arr[1] ):\n",
    "        horizontal_img = ImageOps.mirror(img)\n",
    "        horizontal_msk = ImageOps.mirror(msk)\n",
    "        horizontal_img.save(X_path+\"/images/augment_images/augmentHF_\"+X_img[i])\n",
    "        horizontal_msk.save(X_path+\"/masks/augment_masks/augmentHF_\"+Y_msk[i])\n",
    "        continue\n",
    "    elif(i < n*arr[2]):\n",
    "        img__to_scale=io.imread(X_train[i])\n",
    "        msk__to_scale=io.imread(Y_train[i])\n",
    "        \n",
    "        scale_img = rescale(img__to_scale, scale=0.1, order=0)\n",
    "        scale_msk = rescale(msk__to_scale, scale=0.1, order=0)\n",
    "        io.imsave(X_path+\"/images/augment_images/augmentRS_\"+X_img[i], scale_img)\n",
    "        io.imsave(X_path+\"/masks/augment_masks/augmentRS_\"+Y_msk[i], scale_msk)\n",
    "        continue\n",
    "    elif(i < n*arr[3]):\n",
    "        noisy_sigma = 35\n",
    "        img__to_gaussian = cv2.imread(X_train[i], cv2.IMREAD_UNCHANGED)\n",
    "        msk__to_gaussian = cv2.imread(Y_train[i], cv2.IMREAD_UNCHANGED)\n",
    "        \n",
    "        gaussian_image = add_gaussian_noise(img__to_gaussian, noisy_sigma)\n",
    "        gaussian_msk = add_gaussian_noise(msk__to_gaussian, noisy_sigma)\n",
    "        cv2.imwrite(X_path+\"/images/augment_images/augmentGN_\"+X_img[i], gaussian_image)\n",
    "        cv2.imwrite(X_path+\"/masks/augment_masks/augmentGN_\"+Y_msk[i], gaussian_msk)\n",
    "        continue\n",
    "    elif(i < n*arr[4]):\n",
    "        print(\"zooming\"+str(i))\n",
    "        #zoom\n",
    "        continue\n",
    "    elif(i < n*arr[5]):\n",
    "        img__to_vertical = cv2.imread(X_train[i], cv2.IMREAD_UNCHANGED)\n",
    "        msk__to_vertical = cv2.imread(Y_train[i], cv2.IMREAD_UNCHANGED)\n",
    "        \n",
    "        vertical_img = cv2.flip(img__to_vertical, 0)\n",
    "        vertical_msk = cv2.flip(msk__to_vertical, 0)\n",
    "        cv2.imwrite(X_path+\"/images/augment_images/augmentVF_\"+X_img[i], vertical_img)\n",
    "        cv2.imwrite(X_path+\"/masks/augment_masks/augmentVF_\"+Y_msk[i], vertical_msk)\n",
    "        continue\n",
    "     "
   ]
  },
  {
   "cell_type": "code",
   "execution_count": 11,
   "metadata": {},
   "outputs": [
    {
     "name": "stdout",
     "output_type": "stream",
     "text": [
      "/scratch/mraza/Skin/validation_data/images/ISIC_0014073.jpg\n",
      "/scratch/mraza/Skin/validation_data/images/ISIC_0014072.jpg\n"
     ]
    }
   ],
   "source": [
    "remain=X_train[len(X_train)-count:len(X_train)]\n",
    "for i in range(len(remain)):\n",
    "    img  = Image.open(X_train[i])\n",
    "    msk  = Image.open(Y_train[i])\n",
    "    rotate_img  = img..rotate(45)\n",
    "    rotate_msk  = msk..rotate(45)\n",
    "    rotate_img.save(X_path+\"/images/augment_images/augmentROT_\"+X_img[i])\n",
    "    rotate_msk.save(X_path+\"/masks/augment_masks/augmentROT_\"+Y_msk[i])"
   ]
  },
  {
   "cell_type": "code",
   "execution_count": null,
   "metadata": {},
   "outputs": [],
   "source": []
  },
  {
   "cell_type": "code",
   "execution_count": null,
   "metadata": {},
   "outputs": [],
   "source": []
  },
  {
   "cell_type": "code",
   "execution_count": null,
   "metadata": {},
   "outputs": [],
   "source": []
  },
  {
   "cell_type": "code",
   "execution_count": null,
   "metadata": {},
   "outputs": [],
   "source": []
  },
  {
   "cell_type": "code",
   "execution_count": null,
   "metadata": {},
   "outputs": [],
   "source": []
  },
  {
   "cell_type": "code",
   "execution_count": null,
   "metadata": {},
   "outputs": [],
   "source": []
  },
  {
   "cell_type": "code",
   "execution_count": 19,
   "metadata": {},
   "outputs": [],
   "source": [
    "#For testing purposes\n",
    "X_spath = '/scratch/mraza/testAugment/train/images/ISIC_0014932.jpg'\n",
    "Y_spath = '/scratch/mraza/testAugment/train/masks/ISIC_0014932_segmentation.png'"
   ]
  },
  {
   "cell_type": "code",
   "execution_count": 20,
   "metadata": {},
   "outputs": [],
   "source": [
    "colorImage  = Image.open(X_spath)\n",
    "\n",
    " \n",
    "\n",
    "# Rotate it by 45 degrees\n",
    "\n",
    "rotated     = colorImage.rotate(45)"
   ]
  },
  {
   "cell_type": "code",
   "execution_count": 17,
   "metadata": {},
   "outputs": [],
   "source": [
    "rotated.show()"
   ]
  },
  {
   "cell_type": "code",
   "execution_count": 18,
   "metadata": {},
   "outputs": [],
   "source": [
    "plt.show()"
   ]
  },
  {
   "cell_type": "code",
   "execution_count": 22,
   "metadata": {},
   "outputs": [],
   "source": [
    "rotated.save(\"/scratch/mraza/testAugment/train/test.jpg\")"
   ]
  },
  {
   "cell_type": "code",
   "execution_count": null,
   "metadata": {},
   "outputs": [],
   "source": []
  }
 ],
 "metadata": {
  "kernelspec": {
   "display_name": "Python 2",
   "language": "python",
   "name": "python2"
  },
  "language_info": {
   "codemirror_mode": {
    "name": "ipython",
    "version": 2
   },
   "file_extension": ".py",
   "mimetype": "text/x-python",
   "name": "python",
   "nbconvert_exporter": "python",
   "pygments_lexer": "ipython2",
   "version": "2.7.17"
  }
 },
 "nbformat": 4,
 "nbformat_minor": 2
}
